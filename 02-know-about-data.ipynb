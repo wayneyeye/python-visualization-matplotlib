{
 "cells": [
  {
   "cell_type": "code",
   "execution_count": 1,
   "metadata": {
    "collapsed": true
   },
   "outputs": [],
   "source": [
    "import matplotlib as mpl\n",
    "import matplotlib.pyplot as plt\n",
    "import numpy as np\n",
    "%matplotlib inline  "
   ]
  },
  {
   "cell_type": "code",
   "execution_count": 2,
   "metadata": {
    "collapsed": true
   },
   "outputs": [],
   "source": [
    "import csv"
   ]
  },
  {
   "cell_type": "code",
   "execution_count": 3,
   "metadata": {
    "collapsed": true
   },
   "outputs": [],
   "source": [
    "filename='files/3367OS_02_Code/ch02-data.csv'"
   ]
  },
  {
   "cell_type": "code",
   "execution_count": 4,
   "metadata": {
    "collapsed": true
   },
   "outputs": [],
   "source": [
    "data=[]"
   ]
  },
  {
   "cell_type": "code",
   "execution_count": 11,
   "metadata": {
    "collapsed": false
   },
   "outputs": [],
   "source": [
    "try:\n",
    "    with open(filename) as f: # no need to close if use with statement\n",
    "        reader=csv.reader(f)\n",
    "        header=next(reader)\n",
    "        data=[row for row in reader] #skip over the header line, if any\n",
    "except csv.Error as e:\n",
    "    print (\"Error reading CSV file at line %s: %s\" % (reader.line_num, e))\n",
    "    sys.exit(-1) #exit with code -1"
   ]
  },
  {
   "cell_type": "code",
   "execution_count": 13,
   "metadata": {
    "collapsed": false
   },
   "outputs": [
    {
     "name": "stdout",
     "output_type": "stream",
     "text": [
      "['day', 'ammount']\n",
      "==========================\n",
      "['2013-01-24', '323']\n",
      "['2013-01-25', '233']\n",
      "['2013-01-26', '433']\n",
      "['2013-01-27', '555']\n",
      "['2013-01-28', '123']\n",
      "['2013-01-29', '0']\n",
      "['2013-01-30', '221']\n"
     ]
    }
   ],
   "source": [
    "if header:\n",
    "    print(header)\n",
    "    print('==========================')\n",
    "for row in data:\n",
    "    print(row)"
   ]
  },
  {
   "cell_type": "code",
   "execution_count": 14,
   "metadata": {
    "collapsed": false
   },
   "outputs": [
    {
     "name": "stdout",
     "output_type": "stream",
     "text": [
      "1,2012-01-19\r",
      "\r\n",
      "2,2012-01-20\r",
      "\r\n",
      "3,2012-01-21\r",
      "\r\n",
      "4,2012-01-22\r",
      "\r\n",
      "5,2012-01-23\r",
      "\r\n",
      "6,2012-01-24\r",
      "\r\n",
      "7,2012-01-25\r",
      "\r\n",
      "8,2012-01-26\r",
      "\r\n",
      "9,2012-01-27\r",
      "\r\n",
      "10,2012-01-28\r",
      "\r\n"
     ]
    }
   ],
   "source": [
    "!head files/3367OS_02_Code/ch02-data-write.csv"
   ]
  },
  {
   "cell_type": "code",
   "execution_count": 15,
   "metadata": {
    "collapsed": true
   },
   "outputs": [],
   "source": [
    "#xlsx\n",
    "import xlrd"
   ]
  },
  {
   "cell_type": "code",
   "execution_count": 16,
   "metadata": {
    "collapsed": false
   },
   "outputs": [
    {
     "name": "stdout",
     "output_type": "stream",
     "text": [
      "[[28.0,\n",
      "  65.0,\n",
      "  '0.833730025131149-0.988897705762865i',\n",
      "  '3.85373803791938-27.0168132580039i',\n",
      "  120.0,\n",
      "  0.23,\n",
      "  72.0,\n",
      "  9.0,\n",
      "  1.4000000000000001,\n",
      "  1.25,\n",
      "  6.023029280112979,\n",
      "  3.141,\n",
      "  'CDXCIX',\n",
      "  1.22514845490862e-16,\n",
      "  1.7724538509055159,\n",
      "  0.8427007351745552],\n",
      " [4.0,\n",
      "  0.8427007351745552,\n",
      "  '5+12i',\n",
      "  '1.09868411346781+0.455089860562227i',\n",
      "  1.0,\n",
      "  1.0,\n",
      "  3402.0,\n",
      "  -9.0,\n",
      "  2.0,\n",
      "  380.8865742483644,\n",
      "  5.0,\n",
      "  -3.1,\n",
      "  'LDVLIV',\n",
      "  1.0,\n",
      "  2.5066282746310002,\n",
      "  0.0],\n",
      " [97.0,\n",
      "  0.15729926482544476,\n",
      "  '1.46869393991589+2.28735528717884i',\n",
      "  '8+i',\n",
      "  1.0,\n",
      "  12.0,\n",
      "  0.9999999999999998,\n",
      "  1259.999999999999,\n",
      "  4.0,\n",
      "  761.7731484967288,\n",
      "  0.0,\n",
      "  31400.0,\n",
      "  'XDIX',\n",
      "  0.49999999999999994,\n",
      "  5.0,\n",
      "  101.98166642847517],\n",
      " [0.981666428475166,\n",
      "  1.0,\n",
      "  '0.346573590279973+0.785398163397448i',\n",
      "  '8+i',\n",
      "  1.0,\n",
      "  1.0,\n",
      "  -3.0,\n",
      "  3.0,\n",
      "  2.0,\n",
      "  380.8865742483644,\n",
      "  2.2,\n",
      "  4.0,\n",
      "  'VDIV',\n",
      "  0.49999999999999994,\n",
      "  21.0,\n",
      "  ''],\n",
      " [0.2773878036322587,\n",
      "  1.0,\n",
      "  '0.150514997831991+0.34109408846046i',\n",
      "  0.24,\n",
      "  48.0,\n",
      "  5.0,\n",
      "  -0.3333333333333333,\n",
      "  3.0,\n",
      "  -2.0,\n",
      "  2.0,\n",
      "  2.1,\n",
      "  77.0,\n",
      "  'ID',\n",
      "  1.1752011936438014,\n",
      "  101.98166642847517,\n",
      "  ''],\n",
      " [23.0,\n",
      "  13.0,\n",
      "  '0.500000000038482+1.13309003554401i',\n",
      "  28.0,\n",
      "  105.0,\n",
      "  8.0,\n",
      "  1.9999999999999998,\n",
      "  3.0,\n",
      "  3.141592653589793,\n",
      "  1.0,\n",
      "  -1.48,\n",
      "  3.142,\n",
      "  'MMXIII',\n",
      "  -1.1752011936438014,\n",
      "  116.98166642847517,\n",
      "  ''],\n",
      " ['10111',\n",
      "  -1.0,\n",
      "  '-46+9.00000000000001i',\n",
      "  65.0,\n",
      "  -2.0,\n",
      "  -9.0,\n",
      "  18.0,\n",
      "  -1.0,\n",
      "  25.0,\n",
      "  -3.0,\n",
      "  20.0,\n",
      "  -3.2,\n",
      "  1.0,\n",
      "  0.10104906311828733,\n",
      "  25.27738780363226,\n",
      "  ''],\n",
      " ['1+i',\n",
      "  0.9272952180016122,\n",
      "  '30+60i',\n",
      "  -2.0,\n",
      "  2.0,\n",
      "  0.0,\n",
      "  10.0,\n",
      "  -3.0,\n",
      "  2401077.2220695755,\n",
      "  4.71238898038469,\n",
      "  3.0,\n",
      "  31500.0,\n",
      "  0.0,\n",
      "  4.0,\n",
      "  1.0,\n",
      "  ''],\n",
      " [65.0,\n",
      "  '3-4i',\n",
      "  6.0,\n",
      "  7.38905609893065,\n",
      "  1.5,\n",
      "  10.0,\n",
      "  1.0,\n",
      "  -9.0,\n",
      "  5.656854249492381,\n",
      "  0.2808203258233153,\n",
      "  76.0,\n",
      "  1593.0,\n",
      "  -1.0,\n",
      "  2.0,\n",
      "  101.0,\n",
      "  '']]\n"
     ]
    }
   ],
   "source": [
    "file='files/3367OS_02_Code/ch02-xlsxdata.xlsx'\n",
    "wb=xlrd.open_workbook(filename=file)\n",
    "ws=wb.sheet_by_name('Sheet1')\n",
    "dataset=[]\n",
    "for r in range(ws.nrows):\n",
    "    col=[]\n",
    "    for c in range(ws.ncols):\n",
    "        col.append(ws.cell(r,c).value)\n",
    "    dataset.append(col)\n",
    "from pprint import pprint\n",
    "pprint(dataset)"
   ]
  },
  {
   "cell_type": "code",
   "execution_count": 28,
   "metadata": {
    "collapsed": false
   },
   "outputs": [
    {
     "data": {
      "text/html": [
       "<div>\n",
       "<table border=\"1\" class=\"dataframe\">\n",
       "  <thead>\n",
       "    <tr style=\"text-align: right;\">\n",
       "      <th></th>\n",
       "      <th>0</th>\n",
       "      <th>1</th>\n",
       "      <th>2</th>\n",
       "    </tr>\n",
       "  </thead>\n",
       "  <tbody>\n",
       "    <tr>\n",
       "      <th>0</th>\n",
       "      <td>161322597</td>\n",
       "      <td>386544351896</td>\n",
       "      <td>42</td>\n",
       "    </tr>\n",
       "    <tr>\n",
       "      <th>1</th>\n",
       "      <td>296411327</td>\n",
       "      <td>6945080785634</td>\n",
       "      <td>2301</td>\n",
       "    </tr>\n",
       "    <tr>\n",
       "      <th>2</th>\n",
       "      <td>164726383</td>\n",
       "      <td>4090941067228</td>\n",
       "      <td>5553</td>\n",
       "    </tr>\n",
       "    <tr>\n",
       "      <th>3</th>\n",
       "      <td>575768002</td>\n",
       "      <td>4862349192103</td>\n",
       "      <td>5643</td>\n",
       "    </tr>\n",
       "    <tr>\n",
       "      <th>4</th>\n",
       "      <td>483535208</td>\n",
       "      <td>6007251611732</td>\n",
       "      <td>4649</td>\n",
       "    </tr>\n",
       "  </tbody>\n",
       "</table>\n",
       "</div>"
      ],
      "text/plain": [
       "           0              1     2\n",
       "0  161322597   386544351896    42\n",
       "1  296411327  6945080785634  2301\n",
       "2  164726383  4090941067228  5553\n",
       "3  575768002  4862349192103  5643\n",
       "4  483535208  6007251611732  4649"
      ]
     },
     "execution_count": 28,
     "metadata": {},
     "output_type": "execute_result"
    }
   ],
   "source": [
    "# read from fixed width data\n",
    "import pandas as pd\n",
    "datafile='files/3367OS_02_Code/ch02-fixed-width-1M.data'\n",
    "df=pd.read_fwf(datafile,widths=[9,14,5],header=None) # notice the data\n",
    "df.head()"
   ]
  },
  {
   "cell_type": "code",
   "execution_count": 29,
   "metadata": {
    "collapsed": false
   },
   "outputs": [
    {
     "name": "stdout",
     "output_type": "stream",
     "text": [
      "c\t col\t csv\t data\t datafile\t dataset\t df\t f\t fieldstruct\t \n",
      "fieldwidths\t file\t filename\t fmtstring\t header\t lin\t line\t mask\t mpl\t \n",
      "np\t pd\t plt\t pprint\t r\t reader\t row\t string\t struct\t \n",
      "wb\t ws\t xlrd\t \n"
     ]
    }
   ],
   "source": [
    "%who"
   ]
  },
  {
   "cell_type": "code",
   "execution_count": null,
   "metadata": {
    "collapsed": true
   },
   "outputs": [],
   "source": []
  },
  {
   "cell_type": "code",
   "execution_count": null,
   "metadata": {
    "collapsed": true
   },
   "outputs": [],
   "source": []
  },
  {
   "cell_type": "code",
   "execution_count": null,
   "metadata": {
    "collapsed": true
   },
   "outputs": [],
   "source": []
  },
  {
   "cell_type": "code",
   "execution_count": null,
   "metadata": {
    "collapsed": true
   },
   "outputs": [],
   "source": []
  },
  {
   "cell_type": "code",
   "execution_count": null,
   "metadata": {
    "collapsed": true
   },
   "outputs": [],
   "source": []
  },
  {
   "cell_type": "code",
   "execution_count": null,
   "metadata": {
    "collapsed": true
   },
   "outputs": [],
   "source": []
  },
  {
   "cell_type": "code",
   "execution_count": null,
   "metadata": {
    "collapsed": true
   },
   "outputs": [],
   "source": []
  }
 ],
 "metadata": {
  "kernelspec": {
   "display_name": "Python 3",
   "language": "python",
   "name": "python3"
  },
  "language_info": {
   "codemirror_mode": {
    "name": "ipython",
    "version": 3
   },
   "file_extension": ".py",
   "mimetype": "text/x-python",
   "name": "python",
   "nbconvert_exporter": "python",
   "pygments_lexer": "ipython3",
   "version": "3.6.0"
  }
 },
 "nbformat": 4,
 "nbformat_minor": 2
}
