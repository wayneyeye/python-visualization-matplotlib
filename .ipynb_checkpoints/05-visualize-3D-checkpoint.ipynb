{
 "cells": [
  {
   "cell_type": "code",
   "execution_count": null,
   "metadata": {
    "collapsed": true
   },
   "outputs": [],
   "source": [
    "import matplotlib as mpl\n",
    "import matplotlib.pyplot as plt\n",
    "import numpy as np\n",
    "%matplotlib inline  "
   ]
  },
  {
   "cell_type": "code",
   "execution_count": null,
   "metadata": {
    "collapsed": true
   },
   "outputs": [],
   "source": [
    "import matplotlib.dates as mdates"
   ]
  },
  {
   "cell_type": "code",
   "execution_count": null,
   "metadata": {
    "collapsed": true
   },
   "outputs": [],
   "source": [
    "from mpl_toolkits.mplot3d import Axes3D # 3d lib"
   ]
  },
  {
   "cell_type": "code",
   "execution_count": null,
   "metadata": {
    "collapsed": false
   },
   "outputs": [],
   "source": [
    "import random\n",
    "mpl.rcParams['font.size']=10\n",
    "fig=plt.figure()\n",
    "ax=fig.add_subplot(111,projection='3d')\n",
    "for z in [2011,2012,2013,2014]:\n",
    "    xs=list(range(1,13))\n",
    "    ys=1000*np.random.rand(12)\n",
    "    color=plt.cm.Set2(random.choice(list(range(plt.cm.Set2.N))))\n",
    "    ax.bar(xs,ys,zs=z,zdir='y',color=color,alpha=0.8)\n",
    "ax.xaxis.set_major_locator(mpl.ticker.FixedLocator(xs))\n",
    "ax.yaxis.set_major_locator(mpl.ticker.FixedLocator(ys))\n",
    "\n",
    "ax.set_xlabel('Month')\n",
    "ax.set_ylabel('Year')\n",
    "ax.set_zlabel('Net Sales')"
   ]
  },
  {
   "cell_type": "code",
   "execution_count": null,
   "metadata": {
    "collapsed": false
   },
   "outputs": [],
   "source": [
    "list(range(plt.cm.Set2.N))"
   ]
  },
  {
   "cell_type": "code",
   "execution_count": null,
   "metadata": {
    "collapsed": false
   },
   "outputs": [],
   "source": [
    "n_angles=36\n",
    "n_radii=8\n",
    "radii=np.linspace(0.125,1.0,n_radii)\n",
    "angles=np.linspace(0,2*np.pi,n_angles,endpoint=False) # do not include the endpoint\n",
    "angles=np.repeat(angles[...,np.newaxis],n_radii,axis=1) #3d mesh\n",
    "x=np.append(0,(radii*np.cos(angles)).flatten()) # flatten <=> reshape\n",
    "y=np.append(0,(radii*np.sin(angles)).flatten())\n",
    "z=np.sin(-x*y)\n",
    "fig=plt.figure()\n",
    "ax=fig.gca(projection='3d')\n",
    "ax.plot_trisurf(x,y,z,cmap=mpl.cm.jet,linewidth=0.2) # is the color effect --jet"
   ]
  },
  {
   "cell_type": "code",
   "execution_count": null,
   "metadata": {
    "collapsed": false
   },
   "outputs": [],
   "source": [
    "angles=np.linspace(0,2*np.pi,n_angles,endpoint=False) # do not include the endpoint\n",
    "angles[...,np.newaxis]# creat n*1 matrix\n",
    "np.repeat(angles[...,np.newaxis],n_radii,axis=1) # repeat in direction of axis 1"
   ]
  },
  {
   "cell_type": "markdown",
   "metadata": {},
   "source": [
    "3d histogram"
   ]
  },
  {
   "cell_type": "code",
   "execution_count": null,
   "metadata": {
    "collapsed": false
   },
   "outputs": [],
   "source": [
    "samples=100\n",
    "x=np.random.normal(5,1,samples)\n",
    "y=np.random.normal(3,0.5,samples)\n",
    "fig=plt.figure(figsize=(10,10))\n",
    "ax=fig.add_subplot(211,projection='3d')\n",
    "hist,xedges,yedges=np.histogram2d(x,y,bins=10)\n",
    "elements=(len(xedges)-1)*(len(yedges)-1)\n",
    "xpos,ypos=np.meshgrid(xedges[:-1]+.25,yedges[:-1]+.25)\n",
    "xpos=xpos.flatten()\n",
    "ypos=ypos.flatten()\n",
    "zpos=np.zeros(elements)\n",
    "dx=.08*np.ones_like(zpos)\n",
    "dy=dx.copy()\n",
    "dz=hist.flatten()\n",
    "ax.bar3d(xpos,ypos,zpos,dx,dy,dz,color='c',alpha=0.4)\n",
    "ax.set_xlabel('X Axis')\n",
    "ax.set_ylabel('Y Axis')\n",
    "ax.set_zlabel('Z Axis')\n",
    "ax2=fig.add_subplot(212)\n",
    "ax2.scatter(x,y)\n",
    "ax2.set_xlabel('X Axis')\n",
    "ax2.set_ylabel('Y Axis')"
   ]
  },
  {
   "cell_type": "code",
   "execution_count": null,
   "metadata": {
    "collapsed": false
   },
   "outputs": [],
   "source": [
    "xpos,ypos=np.meshgrid(xedges[:-1]+.25,yedges[:-1]+.25) # how meshgrid works\n",
    "xpos"
   ]
  },
  {
   "cell_type": "code",
   "execution_count": null,
   "metadata": {
    "collapsed": false,
    "scrolled": true
   },
   "outputs": [],
   "source": [
    "ypos"
   ]
  },
  {
   "cell_type": "markdown",
   "metadata": {},
   "source": [
    "Animations"
   ]
  },
  {
   "cell_type": "code",
   "execution_count": null,
   "metadata": {
    "collapsed": true
   },
   "outputs": [],
   "source": [
    "from matplotlib import animation"
   ]
  },
  {
   "cell_type": "code",
   "execution_count": null,
   "metadata": {
    "collapsed": true
   },
   "outputs": [],
   "source": [
    "fig=plt.figure()\n",
    "ax=plt.axes(xlim=(0,2),ylim=(-2,2))\n",
    "line,=ax.plot([],[],lw=2)\n",
    "# print(type(line))\n",
    "def init():\n",
    "    line.set_data([],[])\n",
    "    return line\n",
    "\n",
    "def animate(i):\n",
    "    x=np.linspace(0,2,1000)\n",
    "    y=np.sin(2*np.pi*(x-0.01*i))*np.cos(22*np.pi*(x-0.01*i))\n",
    "    line.set_data(x,y)\n",
    "    print(line)\n",
    "    return line"
   ]
  },
  {
   "cell_type": "code",
   "execution_count": null,
   "metadata": {
    "collapsed": true
   },
   "outputs": [],
   "source": [
    "animator=animation.FuncAnimation(fig,animate,init_func=init,frames=200,interval=20,blit=True)"
   ]
  },
  {
   "cell_type": "markdown",
   "metadata": {},
   "source": [
    "OpenGL"
   ]
  },
  {
   "cell_type": "code",
   "execution_count": null,
   "metadata": {
    "collapsed": true
   },
   "outputs": [],
   "source": []
  },
  {
   "cell_type": "code",
   "execution_count": null,
   "metadata": {
    "collapsed": true
   },
   "outputs": [],
   "source": []
  },
  {
   "cell_type": "code",
   "execution_count": null,
   "metadata": {
    "collapsed": true
   },
   "outputs": [],
   "source": []
  },
  {
   "cell_type": "code",
   "execution_count": null,
   "metadata": {
    "collapsed": true
   },
   "outputs": [],
   "source": []
  },
  {
   "cell_type": "code",
   "execution_count": null,
   "metadata": {
    "collapsed": true
   },
   "outputs": [],
   "source": []
  },
  {
   "cell_type": "code",
   "execution_count": null,
   "metadata": {
    "collapsed": true
   },
   "outputs": [],
   "source": []
  },
  {
   "cell_type": "code",
   "execution_count": null,
   "metadata": {
    "collapsed": true
   },
   "outputs": [],
   "source": []
  },
  {
   "cell_type": "code",
   "execution_count": null,
   "metadata": {
    "collapsed": true
   },
   "outputs": [],
   "source": []
  },
  {
   "cell_type": "code",
   "execution_count": null,
   "metadata": {
    "collapsed": true
   },
   "outputs": [],
   "source": []
  },
  {
   "cell_type": "code",
   "execution_count": null,
   "metadata": {
    "collapsed": true
   },
   "outputs": [],
   "source": []
  },
  {
   "cell_type": "code",
   "execution_count": null,
   "metadata": {
    "collapsed": true
   },
   "outputs": [],
   "source": []
  },
  {
   "cell_type": "code",
   "execution_count": null,
   "metadata": {
    "collapsed": true
   },
   "outputs": [],
   "source": []
  },
  {
   "cell_type": "code",
   "execution_count": null,
   "metadata": {
    "collapsed": true
   },
   "outputs": [],
   "source": []
  },
  {
   "cell_type": "code",
   "execution_count": null,
   "metadata": {
    "collapsed": true
   },
   "outputs": [],
   "source": []
  },
  {
   "cell_type": "code",
   "execution_count": null,
   "metadata": {
    "collapsed": true
   },
   "outputs": [],
   "source": []
  },
  {
   "cell_type": "code",
   "execution_count": null,
   "metadata": {
    "collapsed": true
   },
   "outputs": [],
   "source": []
  }
 ],
 "metadata": {
  "kernelspec": {
   "display_name": "Python 3",
   "language": "python",
   "name": "python3"
  },
  "language_info": {
   "codemirror_mode": {
    "name": "ipython",
    "version": 3
   },
   "file_extension": ".py",
   "mimetype": "text/x-python",
   "name": "python",
   "nbconvert_exporter": "python",
   "pygments_lexer": "ipython3",
   "version": "3.6.0"
  }
 },
 "nbformat": 4,
 "nbformat_minor": 2
}
